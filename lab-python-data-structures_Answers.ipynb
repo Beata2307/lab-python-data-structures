{
 "cells": [
  {
   "cell_type": "markdown",
   "metadata": {
    "tags": []
   },
   "source": [
    "# Lab | Data Structures "
   ]
  },
  {
   "cell_type": "markdown",
   "metadata": {},
   "source": [
    "## Exercise: Managing Customer Orders\n",
    "\n",
    "As part of a business venture, you are starting an online store that sells various products. To ensure smooth operations, you need to develop a program that manages customer orders and inventory.\n",
    "\n",
    "Follow the steps below to complete the exercise:\n",
    "\n",
    "1. Define a list called `products` that contains the following items: \"t-shirt\", \"mug\", \"hat\", \"book\", \"keychain\".\n",
    "\n",
    "2. Create an empty dictionary called `inventory`.\n",
    "\n",
    "3. Ask the user to input the quantity of each product available in the inventory. Use the product names from the `products` list as keys in the `inventory` dictionary and assign the respective quantities as values.\n",
    "\n",
    "4. Create an empty set called `customer_orders`.\n",
    "\n",
    "5. Ask the user to input the name of three products that a customer wants to order (from those in the products list, meaning three products out of \"t-shirt\", \"mug\", \"hat\", \"book\" or \"keychain\". Add each product name to the `customer_orders` set.\n",
    "\n",
    "6. Print the products in the `customer_orders` set.\n",
    "\n",
    "7. Calculate the following order statistics:\n",
    "   - Total Products Ordered: The total number of products in the `customer_orders` set.\n",
    "   - Percentage of Products Ordered: The percentage of products ordered compared to the total available products.\n",
    "   \n",
    "   Store these statistics in a tuple called `order_status`.\n",
    "\n",
    "8. Print the order statistics using the following format:\n",
    "   ```\n",
    "   Order Statistics:\n",
    "   Total Products Ordered: <total_products_ordered>\n",
    "   Percentage of Products Ordered: <percentage_ordered>% \n",
    "   ```\n",
    "\n",
    "9. Update the inventory by subtracting 1 from the quantity of each product. Modify the `inventory` dictionary accordingly.\n",
    "\n",
    "10. Print the updated inventory, displaying the quantity of each product on separate lines.\n",
    "\n",
    "Solve the exercise by implementing the steps using the Python concepts of lists, dictionaries, sets, and basic input/output operations. "
   ]
  },
  {
   "cell_type": "code",
   "execution_count": 6,
   "metadata": {},
   "outputs": [
    {
     "name": "stdin",
     "output_type": "stream",
     "text": [
      "Please enter the quantity of 't-shirt' available:  55\n",
      "Please enter the quantity of 'mug' available:  20\n",
      "Please enter the quantity of 'hat' available:  24\n",
      "Please enter the quantity of 'book' available:  10\n",
      "Please enter the quantity of 'keychain' available:  65\n"
     ]
    }
   ],
   "source": [
    "# 1. Define a list called `products` that contains the following items: \"t-shirt\", \"mug\", \"hat\", \"book\", \"keychain\".\n",
    "# 2. Create an empty dictionary called `inventory`.\n",
    "# 3. Ask the user to input the quantity of each product available in the inventory. Use the product names from the `products` \n",
    "# list as keys in the `inventory`dictionary and assign the respective quantities as values.\n",
    "\n",
    "products = [\"t-shirt\", \"mug\", \"hat\", \"book\", \"keychain\"]\n",
    "\n",
    "inventory = {}\n",
    "\n",
    "for key in products:\n",
    "    value = input(f\"Please enter the quantity of '{key}' available: \")\n",
    "    if not value.isdigit():\n",
    "        value = input(f\"Please enter the valid number for quantity of '{key}' available: \")\n",
    "    value = float(value)\n",
    "    inventory[key] = value\n"
   ]
  },
  {
   "cell_type": "code",
   "execution_count": 2,
   "metadata": {},
   "outputs": [
    {
     "name": "stdin",
     "output_type": "stream",
     "text": [
      "Please enter product number 1 ordered by a costumer:  mug\n",
      "Please enter product number 2 ordered by a costumer:  book\n",
      "Please enter product number 3 ordered by a costumer:  hat\n"
     ]
    },
    {
     "name": "stdout",
     "output_type": "stream",
     "text": [
      "The products ordered by the customer are:  {'mug', 'book', 'hat'}\n"
     ]
    }
   ],
   "source": [
    "# 4. Create an empty set called `customer_orders`.\n",
    "# 5. Ask the user to input the name of three products that a customer wants to order (from those in the products list, meaning \n",
    "# three products out of \"t-shirt\", \"mug\", \"hat\", \"book\" or \"keychain\". Add each product name to the `customer_orders` set.\n",
    "#6. Print the products in the `customer_orders` set.\n",
    "\n",
    "customer_orders = set()\n",
    "\n",
    "i = 1\n",
    "\n",
    "while i <= 3:\n",
    "    order = input(f\"Please enter product number {i} ordered by a costumer: \")\n",
    "    customer_orders.add(order)\n",
    "    i = i + 1\n",
    "\n",
    "\n",
    "print(\"The products ordered by the customer are: \", customer_orders)\n"
   ]
  },
  {
   "cell_type": "code",
   "execution_count": 3,
   "metadata": {},
   "outputs": [
    {
     "name": "stdout",
     "output_type": "stream",
     "text": [
      "Order Statistics:\n",
      "Total Products Ordered: 3\n",
      "Percentage of Products Ordered: 3.85 %\n"
     ]
    }
   ],
   "source": [
    "# 7. Calculate the following order statistics:\n",
    "#    - Total Products Ordered: The total number of products in the `customer_orders` set.\n",
    "#    - Percentage of Products Ordered: The percentage of products ordered compared to the total available products.\n",
    "\n",
    "#    Store these statistics in a tuple called `order_status`.\n",
    "# 8. Print the order statistics using the following format:\n",
    "#    ```\n",
    "#    Order Statistics:\n",
    "#    Total Products Ordered: <total_products_ordered>\n",
    "#    Percentage of Products Ordered: <percentage_ordered>% \n",
    "#    ```\n",
    "\n",
    "\n",
    "# If we assume that customer ordered one item of each product then the total number of products is simply equl to size of the set\n",
    "\n",
    "total_ordered = len(customer_orders)\n",
    "\n",
    "\n",
    "#- Percentage of Products Ordered: The percentage of products ordered compared to the total available products.\n",
    "# Assuming that the number of total available products refers only to the one from groups ordered by a client\n",
    "\n",
    "total_available = 0\n",
    "\n",
    "for prod in customer_orders:\n",
    "    total_available = total_available + inventory[prod]\n",
    "    #print(prod, inventory[prod])\n",
    "    \n",
    "percentage = total_ordered / total_available *100\n",
    "\n",
    "order_status = (total_ordered, percentage)\n",
    "\n",
    "print(\"Order Statistics:\")\n",
    "print(f\"Total Products Ordered: {order_status[0]}\")\n",
    "print(f\"Percentage of Products Ordered: {order_status[1]:.2f} %\")\n",
    "\n"
   ]
  },
  {
   "cell_type": "code",
   "execution_count": 8,
   "metadata": {},
   "outputs": [],
   "source": [
    "# 9. Update the inventory by subtracting 1 from the quantity of each product. Modify the `inventory` dictionary accordingly.\n",
    "\n",
    "#for key, value in inventory.items():\n",
    "#    inventory[key] = inventory[key] - 1\n",
    "    \n",
    "for key in customer_orders:\n",
    "    inventory[key] = inventory[key] - 1"
   ]
  },
  {
   "cell_type": "code",
   "execution_count": 9,
   "metadata": {},
   "outputs": [
    {
     "name": "stdout",
     "output_type": "stream",
     "text": [
      "The updated inventory: \n",
      "t-shirt 55.0\n",
      "mug 19.0\n",
      "hat 23.0\n",
      "book 9.0\n",
      "keychain 65.0\n"
     ]
    }
   ],
   "source": [
    "# 10. Print the updated inventory, displaying the quantity of each product on separate lines.\n",
    "\n",
    "print(\"The updated inventory: \")\n",
    "\n",
    "for key, value in inventory.items():\n",
    "    print(key, value)"
   ]
  }
 ],
 "metadata": {
  "kernelspec": {
   "display_name": "Python 3 (ipykernel)",
   "language": "python",
   "name": "python3"
  },
  "language_info": {
   "codemirror_mode": {
    "name": "ipython",
    "version": 3
   },
   "file_extension": ".py",
   "mimetype": "text/x-python",
   "name": "python",
   "nbconvert_exporter": "python",
   "pygments_lexer": "ipython3",
   "version": "3.11.5"
  }
 },
 "nbformat": 4,
 "nbformat_minor": 4
}
